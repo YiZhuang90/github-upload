{
 "cells": [
  {
   "cell_type": "code",
   "execution_count": 1,
   "metadata": {},
   "outputs": [],
   "source": [
    "import numpy as np\n",
    "import matplotlib.pyplot as plt"
   ]
  },
  {
   "cell_type": "code",
   "execution_count": 2,
   "metadata": {},
   "outputs": [
    {
     "data": {
      "image/png": "[encoded data removed]",
      "text/plain": [
       "<Figure size 432x288 with 1 Axes>"
      ]
     },
     "metadata": {
      "needs_background": "light"
     },
     "output_type": "display_data"
    }
   ],
   "source": [
    "x_ticks = (\"Re2200\", \"Re2250\", \"Re2300\")\n",
    "\n",
    "x_1 = np.arange(1, 5)\n",
    "x_2 = x_1 + 0.1\n",
    "\n",
    "y_1 = np.random.choice(np.arange(1, 7, 0.1), 4)\n",
    "y_2 = np.random.choice(np.arange(1, 7, 0.1), 4)\n",
    "\n",
    "err_1 = np.random.choice(np.arange(0.5, 3, 0.1), 4)\n",
    "err_2 = np.random.choice(np.arange(0.5, 3, 0.1), 4)\n",
    "\n",
    "plt.errorbar(x=x_1, y=y_1, yerr=err_1, color=\"black\", capsize=3,\n",
    "             linestyle=\"None\",\n",
    "             marker=\"s\", markersize=7, mfc=\"black\", mec=\"black\")\n",
    "\n",
    "plt.errorbar(x=x_2, y=y_2, yerr=err_2, color=\"gray\", capsize=3,\n",
    "             linestyle=\"None\",\n",
    "             marker=\"s\", markersize=7, mfc=\"gray\", mec=\"gray\")\n",
    "\n",
    "plt.xticks(x_1, x_ticks, rotation=90)\n",
    "\n",
    "plt.tight_layout()\n",
    "plt.show()"
   ]
  },
  {
   "cell_type": "code",
   "execution_count": 3,
   "metadata": {},
   "outputs": [
    {
     "data": {
      "image/png": "[encoded data removed]",
      "text/plain": [
       "<Figure size 432x288 with 1 Axes>"
      ]
     },
     "metadata": {
      "needs_background": "light"
     },
     "output_type": "display_data"
    }
   ],
   "source": [
    "# example data\n",
    "x = np.arange(0, 4, 1)\n",
    "y = -0.2* x\n",
    "\n",
    "\n",
    "# example error bar values that vary with x-position\n",
    "error = 0.1 + 0.2 * x\n",
    "\n",
    "# error bar values w/ different -/+ errors that\n",
    "# also vary with the x-position\n",
    "lower_error =  error\n",
    "upper_error =  4*error\n",
    "asymmetric_error = np.array(list(zip(lower_error, upper_error))).T\n",
    "\n",
    "plt.errorbar(x, y, yerr=asymmetric_error, fmt='.', ecolor = 'red')\n",
    "plt.show()"
   ]
  },
  {
   "cell_type": "code",
   "execution_count": null,
   "metadata": {},
   "outputs": [],
   "source": []
  }
 ],
 "metadata": {
  "kernelspec": {
   "display_name": "Python 3",
   "language": "python",
   "name": "python3"
  },
  "language_info": {
   "codemirror_mode": {
    "name": "ipython",
    "version": 3
   },
   "file_extension": ".py",
   "mimetype": "text/x-python",
   "name": "python",
   "nbconvert_exporter": "python",
   "pygments_lexer": "ipython3",
   "version": "3.8.3"
  }
 },
 "nbformat": 4,
 "nbformat_minor": 4
}
